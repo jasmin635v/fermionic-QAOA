{
  "cells": [
    {
      "cell_type": "code",
      "execution_count": null,
      "metadata": {
        "colab": {
          "base_uri": "https://localhost:8080/"
        },
        "id": "BfYK9t80oVhE",
        "outputId": "159dedc0-3a22-4419-ea36-381877b2fcfb"
      },
      "outputs": [
        {
          "name": "stdout",
          "output_type": "stream",
          "text": [
            "Collecting pennylane\n",
            "  Downloading PennyLane-0.36.0-py3-none-any.whl (1.7 MB)\n",
            "\u001b[2K     \u001b[90m━━━━━━━━━━━━━━━━━━━━━━━━━━━━━━━━━━━━━━━━\u001b[0m \u001b[32m1.7/1.7 MB\u001b[0m \u001b[31m16.7 MB/s\u001b[0m eta \u001b[36m0:00:00\u001b[0m\n",
            "\u001b[?25hRequirement already satisfied: numpy<2.0 in /usr/local/lib/python3.10/dist-packages (from pennylane) (1.25.2)\n",
            "Requirement already satisfied: scipy in /usr/local/lib/python3.10/dist-packages (from pennylane) (1.11.4)\n",
            "Requirement already satisfied: networkx in /usr/local/lib/python3.10/dist-packages (from pennylane) (3.3)\n",
            "Collecting rustworkx (from pennylane)\n",
            "  Downloading rustworkx-0.14.2-cp310-cp310-manylinux_2_17_x86_64.manylinux2014_x86_64.whl (2.1 MB)\n",
            "\u001b[2K     \u001b[90m━━━━━━━━━━━━━━━━━━━━━━━━━━━━━━━━━━━━━━━━\u001b[0m \u001b[32m2.1/2.1 MB\u001b[0m \u001b[31m42.3 MB/s\u001b[0m eta \u001b[36m0:00:00\u001b[0m\n",
            "\u001b[?25hRequirement already satisfied: autograd in /usr/local/lib/python3.10/dist-packages (from pennylane) (1.6.2)\n",
            "Requirement already satisfied: toml in /usr/local/lib/python3.10/dist-packages (from pennylane) (0.10.2)\n",
            "Collecting appdirs (from pennylane)\n",
            "  Downloading appdirs-1.4.4-py2.py3-none-any.whl (9.6 kB)\n",
            "Collecting semantic-version>=2.7 (from pennylane)\n",
            "  Downloading semantic_version-2.10.0-py2.py3-none-any.whl (15 kB)\n",
            "Collecting autoray>=0.6.1 (from pennylane)\n",
            "  Downloading autoray-0.6.12-py3-none-any.whl (50 kB)\n",
            "\u001b[2K     \u001b[90m━━━━━━━━━━━━━━━━━━━━━━━━━━━━━━━━━━━━━━━━\u001b[0m \u001b[32m51.0/51.0 kB\u001b[0m \u001b[31m2.5 MB/s\u001b[0m eta \u001b[36m0:00:00\u001b[0m\n",
            "\u001b[?25hRequirement already satisfied: cachetools in /usr/local/lib/python3.10/dist-packages (from pennylane) (5.3.3)\n",
            "Collecting pennylane-lightning>=0.36 (from pennylane)\n",
            "  Downloading PennyLane_Lightning-0.36.0-cp310-cp310-manylinux_2_17_x86_64.manylinux2014_x86_64.whl (19.1 MB)\n",
            "\u001b[2K     \u001b[90m━━━━━━━━━━━━━━━━━━━━━━━━━━━━━━━━━━━━━━━━\u001b[0m \u001b[32m19.1/19.1 MB\u001b[0m \u001b[31m25.0 MB/s\u001b[0m eta \u001b[36m0:00:00\u001b[0m\n",
            "\u001b[?25hRequirement already satisfied: requests in /usr/local/lib/python3.10/dist-packages (from pennylane) (2.31.0)\n",
            "Requirement already satisfied: typing-extensions in /usr/local/lib/python3.10/dist-packages (from pennylane) (4.11.0)\n",
            "Requirement already satisfied: future>=0.15.2 in /usr/local/lib/python3.10/dist-packages (from autograd->pennylane) (0.18.3)\n",
            "Requirement already satisfied: charset-normalizer<4,>=2 in /usr/local/lib/python3.10/dist-packages (from requests->pennylane) (3.3.2)\n",
            "Requirement already satisfied: idna<4,>=2.5 in /usr/local/lib/python3.10/dist-packages (from requests->pennylane) (3.7)\n",
            "Requirement already satisfied: urllib3<3,>=1.21.1 in /usr/local/lib/python3.10/dist-packages (from requests->pennylane) (2.0.7)\n",
            "Requirement already satisfied: certifi>=2017.4.17 in /usr/local/lib/python3.10/dist-packages (from requests->pennylane) (2024.2.2)\n",
            "Installing collected packages: appdirs, semantic-version, rustworkx, autoray, pennylane-lightning, pennylane\n",
            "Successfully installed appdirs-1.4.4 autoray-0.6.12 pennylane-0.36.0 pennylane-lightning-0.36.0 rustworkx-0.14.2 semantic-version-2.10.0\n"
          ]
        }
      ],
      "source": [
        "pip install pennylane --upgrade"
      ]
    },
    {
      "cell_type": "code",
      "execution_count": null,
      "metadata": {
        "colab": {
          "base_uri": "https://localhost:8080/"
        },
        "id": "vYa2qJzmoXo_",
        "outputId": "de8d553f-8886-4129-dde8-14e729268226"
      },
      "outputs": [
        {
          "name": "stdout",
          "output_type": "stream",
          "text": [
            "Collecting pennylane-qulacs[cpu]\n",
            "  Downloading pennylane_qulacs-0.36.0-py3-none-any.whl (13 kB)\n",
            "Requirement already satisfied: pennylane>=0.15 in /usr/local/lib/python3.10/dist-packages (from pennylane-qulacs[cpu]) (0.36.0)\n",
            "Requirement already satisfied: numpy in /usr/local/lib/python3.10/dist-packages (from pennylane-qulacs[cpu]) (1.25.2)\n",
            "Requirement already satisfied: scipy in /usr/local/lib/python3.10/dist-packages (from pennylane-qulacs[cpu]) (1.11.4)\n",
            "Collecting qulacs>=0.1.10.1 (from pennylane-qulacs[cpu])\n",
            "  Downloading qulacs-0.6.4.1-cp310-cp310-manylinux_2_17_x86_64.manylinux2014_x86_64.whl (944 kB)\n",
            "\u001b[2K     \u001b[90m━━━━━━━━━━━━━━━━━━━━━━━━━━━━━━━━━━━━━━━━\u001b[0m \u001b[32m944.4/944.4 kB\u001b[0m \u001b[31m14.7 MB/s\u001b[0m eta \u001b[36m0:00:00\u001b[0m\n",
            "\u001b[?25hRequirement already satisfied: networkx in /usr/local/lib/python3.10/dist-packages (from pennylane>=0.15->pennylane-qulacs[cpu]) (3.3)\n",
            "Requirement already satisfied: rustworkx in /usr/local/lib/python3.10/dist-packages (from pennylane>=0.15->pennylane-qulacs[cpu]) (0.14.2)\n",
            "Requirement already satisfied: autograd in /usr/local/lib/python3.10/dist-packages (from pennylane>=0.15->pennylane-qulacs[cpu]) (1.6.2)\n",
            "Requirement already satisfied: toml in /usr/local/lib/python3.10/dist-packages (from pennylane>=0.15->pennylane-qulacs[cpu]) (0.10.2)\n",
            "Requirement already satisfied: appdirs in /usr/local/lib/python3.10/dist-packages (from pennylane>=0.15->pennylane-qulacs[cpu]) (1.4.4)\n",
            "Requirement already satisfied: semantic-version>=2.7 in /usr/local/lib/python3.10/dist-packages (from pennylane>=0.15->pennylane-qulacs[cpu]) (2.10.0)\n",
            "Requirement already satisfied: autoray>=0.6.1 in /usr/local/lib/python3.10/dist-packages (from pennylane>=0.15->pennylane-qulacs[cpu]) (0.6.12)\n",
            "Requirement already satisfied: cachetools in /usr/local/lib/python3.10/dist-packages (from pennylane>=0.15->pennylane-qulacs[cpu]) (5.3.3)\n",
            "Requirement already satisfied: pennylane-lightning>=0.36 in /usr/local/lib/python3.10/dist-packages (from pennylane>=0.15->pennylane-qulacs[cpu]) (0.36.0)\n",
            "Requirement already satisfied: requests in /usr/local/lib/python3.10/dist-packages (from pennylane>=0.15->pennylane-qulacs[cpu]) (2.31.0)\n",
            "Requirement already satisfied: typing-extensions in /usr/local/lib/python3.10/dist-packages (from pennylane>=0.15->pennylane-qulacs[cpu]) (4.11.0)\n",
            "Requirement already satisfied: future>=0.15.2 in /usr/local/lib/python3.10/dist-packages (from autograd->pennylane>=0.15->pennylane-qulacs[cpu]) (0.18.3)\n",
            "Requirement already satisfied: charset-normalizer<4,>=2 in /usr/local/lib/python3.10/dist-packages (from requests->pennylane>=0.15->pennylane-qulacs[cpu]) (3.3.2)\n",
            "Requirement already satisfied: idna<4,>=2.5 in /usr/local/lib/python3.10/dist-packages (from requests->pennylane>=0.15->pennylane-qulacs[cpu]) (3.7)\n",
            "Requirement already satisfied: urllib3<3,>=1.21.1 in /usr/local/lib/python3.10/dist-packages (from requests->pennylane>=0.15->pennylane-qulacs[cpu]) (2.0.7)\n",
            "Requirement already satisfied: certifi>=2017.4.17 in /usr/local/lib/python3.10/dist-packages (from requests->pennylane>=0.15->pennylane-qulacs[cpu]) (2024.2.2)\n",
            "Installing collected packages: qulacs, pennylane-qulacs\n",
            "Successfully installed pennylane-qulacs-0.36.0 qulacs-0.6.4.1\n"
          ]
        }
      ],
      "source": [
        "pip install pennylane-qulacs[\"cpu\"]"
      ]
    },
    {
      "cell_type": "code",
      "execution_count": null,
      "metadata": {
        "id": "w0MceNg9ogIr"
      },
      "outputs": [],
      "source": [
        "from pennylane import qaoa\n",
        "import pennylane as qml\n",
        "from pennylane import numpy as np\n",
        "from matplotlib import pyplot as plt\n",
        "import networkx as nx\n",
        "from tqdm.auto import tqdm"
      ]
    },
    {
      "cell_type": "markdown",
      "metadata": {
        "id": "MiW8aimuonsN"
      },
      "source": [
        "**Defining the graph**"
      ]
    },
    {
      "cell_type": "code",
      "execution_count": null,
      "metadata": {
        "colab": {
          "base_uri": "https://localhost:8080/",
          "height": 516
        },
        "id": "h1nY93iHojI-",
        "outputId": "41d4f61f-9f9c-47ac-c865-d305711dcdb6"
      },
      "outputs": [
        {
          "data": {
            "image/png": "[encoded data removed]",
            "text/plain": [
              "<Figure size 640x480 with 1 Axes>"
            ]
          },
          "metadata": {},
          "output_type": "display_data"
        }
      ],
      "source": [
        "edges = [(0, 1), (1, 2), (2, 0), (2, 3)]\n",
        "graph = nx.Graph(edges)\n",
        "\n",
        "nx.draw(graph, with_labels=True)\n",
        "plt.show()"
      ]
    },
    {
      "cell_type": "markdown",
      "metadata": {
        "id": "YzHdbLSFtNK7"
      },
      "source": [
        "**Theoretical Background**\n",
        "\n",
        "For those just starting out, let's try to understand how to find the minimum vertex cover and what is actually meant by it. **A minimum vertex cover of a graph is a smallest set of vertices such that every edge in the graph is incident to at least one vertex in this set.** It is a well-known NP-complete problem. For this particular graph, let's analyse why the solutions are \\\\\n",
        "\n",
        "\n",
        "**First solution**\n",
        "\n",
        "Covering edges with vertices 0 and 2:\n",
        "   - Edge (0, 1) is covered by vertex 0.\n",
        "   - Edge (1, 2) is covered by vertex 2.\n",
        "   - Edge (2, 0) is covered by either vertex 0 or vertex 2.\n",
        "   - Edge (2, 3) is covered by vertex 2.\n",
        "\n",
        "Thus, the set $\\{0, 2\\}$ covers all edges.\n",
        "\n",
        "\n",
        "**Second solution**\n",
        "\n",
        "Covering edges with vertices 1 and 2:\n",
        "   - Edge (0, 1) is covered by vertex 1.\n",
        "   - Edge (1, 2) is covered by vertex 1 or vertex 2.\n",
        "   - Edge (2, 0) is covered by vertex 2.\n",
        "   - Edge (2, 3) is covered by vertex 2.\n",
        "\n",
        "Thus, the set $\\{1, 2\\}$ covers all edges.\n",
        "\n",
        "Since both sets $\\{0, 2\\}$ and $\\{1, 2\\}$ are of size 2, and no single vertex can cover all edges, these two form the minimal vertex covers.\n",
        "\n",
        "For me, because I had not worked on graph theory before, I was slightly confused with the bitstring represntation for a while, so I explain that too below. Bit strings can be used to represent sets in a binary form, where each bit position corresponds to a vertex in the graph. A bit value of 1 indicates that the vertex is included in the set, and a bit value of 0 indicates that the vertex is not included.This means,\n",
        "\n",
        "- **Bit string 1010**:\n",
        "     - first bit corresponds to vertex 0 (1 means included).\n",
        "     - second bit corresponds to vertex 1 (0 means not included).\n",
        "     - third bit corresponds to vertex 2 (1 means included).\n",
        "     - fourth bit corresponds to vertex 3 (0 means not included).\n",
        "\n",
        "Thus, 1010 represents the set $\\{0, 2\\}$.\n",
        "\n",
        "**Bit string 0110**:\n",
        "     - first bit corresponds to vertex 0 (0 means not included).\n",
        "     - second bit corresponds to vertex 1 (1 means included).\n",
        "     - third bit corresponds to vertex 2 (1 means included).\n",
        "     - fourth bit corresponds to vertex 3 (0 means not included).\n",
        "\n",
        "Thus, 0110 represents the set  $\\{1, 2\\}$."
      ]
    },
    {
      "cell_type": "markdown",
      "metadata": {
        "id": "suNxEwDHqUhW"
      },
      "source": [
        "There are two minimum vertex covers of this graph: the vertices 0 and 2, and the vertices 1 and 2. These can be respectively represented by the bit strings 1010 and 0110. The goal of the algorithm  is to sample these bit strings with high probability. In our case, the cost Hamiltonian has two ground states, |$1010\\rangle$ and $|0110\\rangle$, coinciding with the solutions of the problem. The mixer Hamiltonian is the simple, non-commuting sum of Pauli-X operations on each node of the graph.  The states $|6\\rangle =|0110\\rangle$ and $|10\\rangle =|1010\\rangle$ have the highest probabilities of being measured, just as we will see at the end of the optimization procedure.\n"
      ]
    },
    {
      "cell_type": "markdown",
      "metadata": {
        "id": "5tc0vsV7o102"
      },
      "source": [
        "**Defining the cost and the mixer hamiltonian**"
      ]
    },
    {
      "cell_type": "code",
      "execution_count": null,
      "metadata": {
        "colab": {
          "base_uri": "https://localhost:8080/"
        },
        "id": "WjDzZsTHorI_",
        "outputId": "4d08fa2c-3f22-4583-a425-04b24e42dd8d"
      },
      "outputs": [
        {
          "name": "stdout",
          "output_type": "stream",
          "text": [
            "Cost Hamiltonian 0.75 * (Z(0) @ Z(1)) + 0.75 * Z(0) + 0.75 * Z(1) + 0.75 * (Z(0) @ Z(2)) + 0.75 * Z(0) + 0.75 * Z(2) + 0.75 * (Z(1) @ Z(2)) + 0.75 * Z(1) + 0.75 * Z(2) + 0.75 * (Z(2) @ Z(3)) + 0.75 * Z(2) + 0.75 * Z(3) + -1.0 * Z(0) + -1.0 * Z(1) + -1.0 * Z(2) + -1.0 * Z(3)\n",
            "Mixer Hamiltonian 1 * X(0) + 1 * X(1) + 1 * X(2) + 1 * X(3)\n"
          ]
        }
      ],
      "source": [
        "cost_h, mixer_h = qaoa.min_vertex_cover(graph, constrained=False)\n",
        "\n",
        "print(\"Cost Hamiltonian\", cost_h)\n",
        "print(\"Mixer Hamiltonian\", mixer_h)"
      ]
    },
    {
      "cell_type": "markdown",
      "metadata": {
        "id": "NMKuep8Ro88M"
      },
      "source": [
        "**The cost hamiltonian is the ZZ hamiltonian , while the mixer is the X hamiltonian**"
      ]
    },
    {
      "cell_type": "code",
      "execution_count": null,
      "metadata": {
        "colab": {
          "base_uri": "https://localhost:8080/",
          "height": 646,
          "referenced_widgets": [
            "1750768e989c4f3fb1a786eee6d1caaf",
            "3ef29743bcf54f8882a431b36f22f2e4",
            "3b6cc4ec5f4c4b0a82b64da44d47e718",
            "351415f3e76f4ec79c6e5d5324103238",
            "d9ca9297d36f4bccadf4a7f9599ce5dc",
            "61fa3d4e34e442e197376ced53a04f04",
            "a53b4a308b094304ae50c1018cf2dcb3",
            "9a901d9476b441f3b1c4c79f66ebb2db",
            "6a8ca928363f409088c35ea71dee8494",
            "8f0ec5e7c4b549c4aa8d728689c545b8",
            "e10e05702a50480685707ac5405a71d7"
          ]
        },
        "id": "L3pvsMkAo64O",
        "outputId": "0f27a3c9-e08b-4eff-fd3a-86ba9eb00ed9"
      },
      "outputs": [
        {
          "data": {
            "application/vnd.jupyter.widget-view+json": {
              "model_id": "1750768e989c4f3fb1a786eee6d1caaf",
              "version_major": 2,
              "version_minor": 0
            },
            "text/plain": [
              "  0%|          | 0/100 [00:00<?, ?it/s]"
            ]
          },
          "metadata": {},
          "output_type": "display_data"
        },
        {
          "name": "stdout",
          "output_type": "stream",
          "text": [
            "Optimal Parameters\n",
            "[[0.59805356 0.94199357]\n",
            " [0.52797309 0.85553493]]\n"
          ]
        },
        {
          "name": "stderr",
          "output_type": "stream",
          "text": [
            "<ipython-input-8-ea258a24f685>:43: MatplotlibDeprecationWarning: The seaborn styles shipped by Matplotlib are deprecated since 3.6, as they no longer correspond to the styles shipped by seaborn. However, they will remain available as 'seaborn-v0_8-<style>'. Alternatively, directly use the seaborn API instead.\n",
            "  plt.style.use(\"seaborn\")\n"
          ]
        },
        {
          "data": {
            "image/png": "[encoded data removed]",
            "text/plain": [
              "<Figure size 800x550 with 1 Axes>"
            ]
          },
          "metadata": {},
          "output_type": "display_data"
        }
      ],
      "source": [
        "def qaoa_layer(gamma, alpha):\n",
        "    qaoa.cost_layer(gamma, cost_h)\n",
        "    qaoa.mixer_layer(alpha, mixer_h)\n",
        "\n",
        "\n",
        "wires = range(4)\n",
        "depth = 2\n",
        "\n",
        "def circuit(params, **kwargs):\n",
        "    for w in wires:\n",
        "        qml.Hadamard(wires=w)\n",
        "    qml.layer(qaoa_layer, depth, params[0], params[1])\n",
        "\n",
        "dev = qml.device(\"qulacs.simulator\", wires=wires)\n",
        "\n",
        "@qml.qnode(dev)\n",
        "def cost_function(params):\n",
        "    circuit(params)\n",
        "    return qml.expval(cost_h)\n",
        "\n",
        "optimizer = qml.GradientDescentOptimizer()\n",
        "steps = 100\n",
        "params = np.array([[0.5, 0.5], [0.5, 0.5]], requires_grad=True)\n",
        "\n",
        "#these initial parameters are known to work and are provided by pennylane in its tutorial such that the optimization does not get stuck at a local minima.\n",
        "\n",
        "\n",
        "for i in tqdm(range(steps)):\n",
        "    params = optimizer.step(cost_function, params)\n",
        "\n",
        "print(\"Optimal Parameters\")\n",
        "print(params)\n",
        "\n",
        "@qml.qnode(dev)\n",
        "def probability_circuit(gamma, alpha):\n",
        "    circuit([gamma, alpha])\n",
        "    return qml.probs(wires=wires)\n",
        "\n",
        "\n",
        "probs = probability_circuit(params[0], params[1])\n",
        "\n",
        "\n",
        "plt.style.use(\"seaborn\")\n",
        "plt.title(\"QAOA vertex cover, X mixer\")\n",
        "plt.bar(range(2 ** len(wires)), probs)\n",
        "plt.show()"
      ]
    },
    {
      "cell_type": "markdown",
      "metadata": {
        "id": "s9l4tAEiqC7-"
      },
      "source": [
        "Now for the sake of practice and completeness, let's look at another graph. This will also help us understand the effect of initial parameters."
      ]
    },
    {
      "cell_type": "code",
      "execution_count": null,
      "metadata": {
        "colab": {
          "base_uri": "https://localhost:8080/",
          "height": 586
        },
        "id": "cUW3BGauporH",
        "outputId": "24805287-a6d9-4664-9837-08f0b23e310c"
      },
      "outputs": [
        {
          "data": {
            "image/png": "[encoded data removed]",
            "text/plain": [
              "<Figure size 800x550 with 1 Axes>"
            ]
          },
          "metadata": {},
          "output_type": "display_data"
        }
      ],
      "source": [
        "edges = [(0, 1), (2, 0), (2, 3), (1,3)]\n",
        "graph = nx.Graph(edges)\n",
        "\n",
        "nx.draw(graph, with_labels=True)\n",
        "plt.show()"
      ]
    },
    {
      "cell_type": "markdown",
      "metadata": {
        "id": "4uRQI60ixmLw"
      },
      "source": [
        "This is simple, the two minimum vertex covers are\n",
        "![image.png](data:image/png;base64,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)"
      ]
    },
    {
      "cell_type": "markdown",
      "metadata": {
        "id": "EtM_uuTDx7Km"
      },
      "source": [
        "**Now let's see if we get this results from the QAOA**"
      ]
    },
    {
      "cell_type": "code",
      "execution_count": null,
      "metadata": {
        "colab": {
          "base_uri": "https://localhost:8080/"
        },
        "id": "q5JpUasRwVIp",
        "outputId": "c18921c3-9f71-4f79-cf9a-174ae2ce1494"
      },
      "outputs": [
        {
          "name": "stdout",
          "output_type": "stream",
          "text": [
            "Cost Hamiltonian 0.75 * (Z(0) @ Z(1)) + 0.75 * Z(0) + 0.75 * Z(1) + 0.75 * (Z(0) @ Z(2)) + 0.75 * Z(0) + 0.75 * Z(2) + 0.75 * (Z(1) @ Z(3)) + 0.75 * Z(1) + 0.75 * Z(3) + 0.75 * (Z(2) @ Z(3)) + 0.75 * Z(2) + 0.75 * Z(3) + -1.0 * Z(0) + -1.0 * Z(1) + -1.0 * Z(2) + -1.0 * Z(3)\n",
            "Mixer Hamiltonian 1 * X(0) + 1 * X(1) + 1 * X(2) + 1 * X(3)\n"
          ]
        }
      ],
      "source": [
        "cost_h, mixer_h = qaoa.min_vertex_cover(graph, constrained=False)\n",
        "\n",
        "print(\"Cost Hamiltonian\", cost_h)\n",
        "print(\"Mixer Hamiltonian\", mixer_h)"
      ]
    },
    {
      "cell_type": "code",
      "execution_count": null,
      "metadata": {
        "colab": {
          "base_uri": "https://localhost:8080/",
          "height": 646,
          "referenced_widgets": [
            "c7dc5a9dc18b476e90e9f3354334c0ed",
            "b43d61c12daa46bf91972d22440a6b47",
            "f702a5b28abf4171a80b732bdc6cb3dc",
            "4589bda950e2409c95923b059c401719",
            "8a38b8bed30043868269d60724582d75",
            "46f58e5cae3d49368862660bc580929f",
            "0b17221339b54118b63ed37bc4820e30",
            "ae38152a682c418a8f4003415dac5193",
            "4ea0b5f6e9b8418991bf0580d2922614",
            "2bf99821fdd14758b84d0eb95be78a87",
            "bfd432b9c3654b738976965326869d94"
          ]
        },
        "id": "wYIbixHyyDMu",
        "outputId": "f2024d60-5a7f-45bb-ccb2-7a9504fc553d"
      },
      "outputs": [
        {
          "data": {
            "application/vnd.jupyter.widget-view+json": {
              "model_id": "c7dc5a9dc18b476e90e9f3354334c0ed",
              "version_major": 2,
              "version_minor": 0
            },
            "text/plain": [
              "  0%|          | 0/100 [00:00<?, ?it/s]"
            ]
          },
          "metadata": {},
          "output_type": "display_data"
        },
        {
          "name": "stdout",
          "output_type": "stream",
          "text": [
            "Optimal Parameters\n",
            "[[0.63141368 1.02164833]\n",
            " [0.51523361 0.86670024]]\n"
          ]
        },
        {
          "name": "stderr",
          "output_type": "stream",
          "text": [
            "<ipython-input-13-9bcfda3e1859>:43: MatplotlibDeprecationWarning: The seaborn styles shipped by Matplotlib are deprecated since 3.6, as they no longer correspond to the styles shipped by seaborn. However, they will remain available as 'seaborn-v0_8-<style>'. Alternatively, directly use the seaborn API instead.\n",
            "  plt.style.use(\"seaborn\")\n"
          ]
        },
        {
          "data": {
            "image/png": "[encoded data removed]",
            "text/plain": [
              "<Figure size 800x550 with 1 Axes>"
            ]
          },
          "metadata": {},
          "output_type": "display_data"
        }
      ],
      "source": [
        "def qaoa_layer(gamma, alpha):\n",
        "    qaoa.cost_layer(gamma, cost_h)\n",
        "    qaoa.mixer_layer(alpha, mixer_h)\n",
        "\n",
        "\n",
        "wires = range(4)\n",
        "depth = 2\n",
        "\n",
        "def circuit(params, **kwargs):\n",
        "    for w in wires:\n",
        "        qml.Hadamard(wires=w)\n",
        "    qml.layer(qaoa_layer, depth, params[0], params[1])\n",
        "\n",
        "dev = qml.device(\"qulacs.simulator\", wires=wires)\n",
        "\n",
        "@qml.qnode(dev)\n",
        "def cost_function(params):\n",
        "    circuit(params)\n",
        "    return qml.expval(cost_h)\n",
        "\n",
        "optimizer = qml.GradientDescentOptimizer()\n",
        "steps = 100\n",
        "params = np.array([[0.5, 0.5], [0.5, 0.5]], requires_grad=True)\n",
        "\n",
        "#these initial parameters are known to work and are provided by pennylane in its tutorial such that the optimization does not get stuck at a local minima.\n",
        "\n",
        "\n",
        "for i in tqdm(range(steps)):\n",
        "    params = optimizer.step(cost_function, params)\n",
        "\n",
        "print(\"Optimal Parameters\")\n",
        "print(params)\n",
        "\n",
        "@qml.qnode(dev)\n",
        "def probability_circuit(gamma, alpha):\n",
        "    circuit([gamma, alpha])\n",
        "    return qml.probs(wires=wires)\n",
        "\n",
        "\n",
        "probs = probability_circuit(params[0], params[1])\n",
        "\n",
        "\n",
        "plt.style.use(\"seaborn\")\n",
        "plt.title(\"QAOA vertex cover, X mixer\")\n",
        "plt.bar(range(2 ** len(wires)), probs)\n",
        "plt.show()"
      ]
    },
    {
      "cell_type": "markdown",
      "metadata": {
        "id": "IheS-4oyyzLL"
      },
      "source": [
        "**This is clearly the right answer! Exciting!**"
      ]
    },
    {
      "cell_type": "markdown",
      "metadata": {
        "id": "5nevjFJs20Wc"
      },
      "source": [
        "Now for the sake of practice and completeness, let's look at another graph. This will also help us understand the effect of initial parameters."
      ]
    },
    {
      "cell_type": "code",
      "execution_count": null,
      "metadata": {
        "colab": {
          "base_uri": "https://localhost:8080/",
          "height": 586
        },
        "id": "0Eqwe-CNyGwX",
        "outputId": "535dec5a-a965-4760-9691-dedebd540637"
      },
      "outputs": [
        {
          "data": {
            "image/png": "[encoded data removed]",
            "text/plain": [
              "<Figure size 800x550 with 1 Axes>"
            ]
          },
          "metadata": {},
          "output_type": "display_data"
        }
      ],
      "source": [
        "edges = [(0, 1), (2, 0), (2, 3), (1,3), (1, 4), (3, 5), (2, 6), (0, 6), (4, 5), (1, 5)]\n",
        "graph = nx.Graph(edges)\n",
        "\n",
        "nx.draw(graph, with_labels=True)\n",
        "plt.show()"
      ]
    },
    {
      "cell_type": "markdown",
      "metadata": {
        "id": "gwnTQNgr4h5O"
      },
      "source": [
        "This graph has 6 nodes and looks much more complicated. Is it still worth it to do the theoretical checking first, yes, because we are learning."
      ]
    },
    {
      "cell_type": "code",
      "execution_count": null,
      "metadata": {
        "colab": {
          "base_uri": "https://localhost:8080/"
        },
        "id": "MiGfw_Hj4Hke",
        "outputId": "c61d6d8e-2bfe-4ea0-9d96-c4ebbfd6cac3"
      },
      "outputs": [
        {
          "name": "stdout",
          "output_type": "stream",
          "text": [
            "Minimum Vertex Cover: {0, 1, 2, 3, 4}\n"
          ]
        }
      ],
      "source": [
        "min_vertex_cover = nx.approximation.min_weighted_vertex_cover(graph)\n",
        "\n",
        "print(\"Minimum Vertex Cover:\", min_vertex_cover)"
      ]
    },
    {
      "cell_type": "markdown",
      "metadata": {
        "id": "QlMQcM-l7XFP"
      },
      "source": [
        "**I don't know why we get this result, because it seems the answer should be {1,2,5}. Let's try QAOA**."
      ]
    },
    {
      "cell_type": "code",
      "execution_count": null,
      "metadata": {
        "colab": {
          "base_uri": "https://localhost:8080/"
        },
        "id": "GFMb1lxi6tCp",
        "outputId": "db91e6d3-3994-49ed-b433-d28a6a0b0605"
      },
      "outputs": [
        {
          "name": "stdout",
          "output_type": "stream",
          "text": [
            "Cost Hamiltonian 0.75 * (Z(0) @ Z(1)) + 0.75 * Z(0) + 0.75 * Z(1) + 0.75 * (Z(0) @ Z(2)) + 0.75 * Z(0) + 0.75 * Z(2) + 0.75 * (Z(0) @ Z(6)) + 0.75 * Z(0) + 0.75 * Z(6) + 0.75 * (Z(1) @ Z(3)) + 0.75 * Z(1) + 0.75 * Z(3) + 0.75 * (Z(1) @ Z(4)) + 0.75 * Z(1) + 0.75 * Z(4) + 0.75 * (Z(1) @ Z(5)) + 0.75 * Z(1) + 0.75 * Z(5) + 0.75 * (Z(2) @ Z(3)) + 0.75 * Z(2) + 0.75 * Z(3) + 0.75 * (Z(2) @ Z(6)) + 0.75 * Z(2) + 0.75 * Z(6) + 0.75 * (Z(3) @ Z(5)) + 0.75 * Z(3) + 0.75 * Z(5) + 0.75 * (Z(4) @ Z(5)) + 0.75 * Z(4) + 0.75 * Z(5) + -1.0 * Z(0) + -1.0 * Z(1) + -1.0 * Z(2) + -1.0 * Z(3) + -1.0 * Z(4) + -1.0 * Z(5) + -1.0 * Z(6)\n",
            "Mixer Hamiltonian 1 * X(0) + 1 * X(1) + 1 * X(2) + 1 * X(3) + 1 * X(4) + 1 * X(5) + 1 * X(6)\n"
          ]
        }
      ],
      "source": [
        "cost_h, mixer_h = qaoa.min_vertex_cover(graph, constrained=False)\n",
        "\n",
        "print(\"Cost Hamiltonian\", cost_h)\n",
        "print(\"Mixer Hamiltonian\", mixer_h)"
      ]
    },
    {
      "cell_type": "code",
      "execution_count": null,
      "metadata": {
        "colab": {
          "base_uri": "https://localhost:8080/",
          "height": 1000,
          "referenced_widgets": [
            "b11847ce58d24b1da52301d53829eba6",
            "61110741026b444f86130b436a91e9b7",
            "a0aef735065c4cc5a46dc129a4f2353a",
            "3cac6bb769954fc5947858518075346c",
            "cf399fe5699344af85d3abf77048dfd9",
            "d420354fccd24f9d8a07237359d62f97",
            "2f366db60b13459497deb74cc2b17efd",
            "aa310f72fb9a41a380d77f113e8f84b7",
            "49a1da63f12e408da0d6cc0d2aa809dc",
            "c05da8a128f144e68b5791b6d9a7652d",
            "d949810ebb464555a0d845f1e898e227"
          ]
        },
        "id": "JbL5U1TI7lCD",
        "outputId": "87e84f66-b380-486c-ad9a-0b8bd008bb0c"
      },
      "outputs": [
        {
          "data": {
            "image/png": "[encoded data removed]",
            "text/plain": [
              "<Figure size 800x550 with 1 Axes>"
            ]
          },
          "metadata": {},
          "output_type": "display_data"
        },
        {
          "data": {
            "application/vnd.jupyter.widget-view+json": {
              "model_id": "b11847ce58d24b1da52301d53829eba6",
              "version_major": 2,
              "version_minor": 0
            },
            "text/plain": [
              "  0%|          | 0/100 [00:00<?, ?it/s]"
            ]
          },
          "metadata": {},
          "output_type": "display_data"
        },
        {
          "name": "stdout",
          "output_type": "stream",
          "text": [
            "Optimal Parameters\n",
            "[[0.62316609 0.32759191]\n",
            " [0.23791051 0.80358863]]\n"
          ]
        },
        {
          "name": "stderr",
          "output_type": "stream",
          "text": [
            "<ipython-input-23-dd3fb620e404>:49: MatplotlibDeprecationWarning: The seaborn styles shipped by Matplotlib are deprecated since 3.6, as they no longer correspond to the styles shipped by seaborn. However, they will remain available as 'seaborn-v0_8-<style>'. Alternatively, directly use the seaborn API instead.\n",
            "  plt.style.use(\"seaborn\")\n"
          ]
        },
        {
          "data": {
            "image/png": "[encoded data removed]",
            "text/plain": [
              "<Figure size 800x550 with 1 Axes>"
            ]
          },
          "metadata": {},
          "output_type": "display_data"
        }
      ],
      "source": [
        "edges = [(0, 1), (2, 0), (2, 3), (1,3), (1, 4), (3, 5), (2, 6), (0, 6), (4, 5), (1, 5)]\n",
        "graph = nx.Graph(edges)\n",
        "\n",
        "nx.draw(graph, with_labels=True)\n",
        "plt.show()\n",
        "\n",
        "def qaoa_layer(gamma, alpha):\n",
        "    qaoa.cost_layer(gamma, cost_h)\n",
        "    qaoa.mixer_layer(alpha, mixer_h)\n",
        "\n",
        "\n",
        "wires = range(7)\n",
        "depth = 2\n",
        "\n",
        "def circuit(params, **kwargs):\n",
        "    for w in wires:\n",
        "        qml.Hadamard(wires=w)\n",
        "    qml.layer(qaoa_layer, depth, params[0], params[1])\n",
        "\n",
        "dev = qml.device(\"qulacs.simulator\", wires=wires)\n",
        "\n",
        "@qml.qnode(dev)\n",
        "def cost_function(params):\n",
        "    circuit(params)\n",
        "    return qml.expval(cost_h)\n",
        "\n",
        "optimizer = qml.GradientDescentOptimizer()\n",
        "steps = 100\n",
        "params = np.array([[0.5, 0.5], [0.5, 0.5]], requires_grad=True)\n",
        "\n",
        "#these initial parameters are known to work and are provided by pennylane in its tutorial such that the optimization does not get stuck at a local minima.\n",
        "\n",
        "\n",
        "for i in tqdm(range(steps)):\n",
        "    params = optimizer.step(cost_function, params)\n",
        "\n",
        "print(\"Optimal Parameters\")\n",
        "print(params)\n",
        "\n",
        "@qml.qnode(dev)\n",
        "def probability_circuit(gamma, alpha):\n",
        "    circuit([gamma, alpha])\n",
        "    return qml.probs(wires=wires)\n",
        "\n",
        "\n",
        "probs = probability_circuit(params[0], params[1])\n",
        "\n",
        "\n",
        "plt.style.use(\"seaborn\")\n",
        "plt.title(\"QAOA vertex cover, X mixer\")\n",
        "plt.bar(range(2 ** len(wires)), probs)\n",
        "plt.show()"
      ]
    },
    {
      "cell_type": "markdown",
      "metadata": {
        "id": "MRU-8xu1ATIU"
      },
      "source": [
        "In this particular case it seems that it would be cleaver to add a constraint that made one of the many solutions “better” than the other? This can also be done in PennyLane by modifying the cost Hamiltonian."
      ]
    },
    {
      "cell_type": "code",
      "execution_count": null,
      "metadata": {
        "id": "geYRVXEq7r6y"
      },
      "outputs": [],
      "source": [
        "reward_h = qaoa.edge_driver(nx.Graph([(0, 2)]), ['11'])"
      ]
    },
    {
      "cell_type": "code",
      "execution_count": null,
      "metadata": {
        "id": "c6tZbdJ8Az9-"
      },
      "outputs": [],
      "source": [
        "new_cost_h = cost_h + 2 * reward_h"
      ]
    },
    {
      "cell_type": "code",
      "execution_count": null,
      "metadata": {
        "id": "E9W9SL65DbqM"
      },
      "outputs": [],
      "source": [
        "cost_h, mixer_h = qaoa.min_vertex_cover(graph, constrained=False)\n",
        "\n",
        "print(\"Cost Hamiltonian\", cost_h)\n",
        "print(\"Mixer Hamiltonian\", mixer_h)"
      ]
    },
    {
      "cell_type": "code",
      "execution_count": null,
      "metadata": {
        "id": "YRYKmcZ8DjLS"
      },
      "outputs": [],
      "source": [
        "def qaoa_layer(gamma, alpha):\n",
        "    qaoa.cost_layer(gamma, new_cost_h)\n",
        "    qaoa.mixer_layer(alpha, mixer_h)"
      ]
    },
    {
      "cell_type": "code",
      "execution_count": null,
      "metadata": {
        "colab": {
          "background_save": true,
          "base_uri": "https://localhost:8080/",
          "height": 49,
          "referenced_widgets": [
            "8fa74a2facfe490fae89860842173142",
            "77ca2da10cbd41e394c94c8fbf1886ab",
            "d16d1aaeb11a443dbb7a9f47919e9841",
            "fc4a9cf644224859bb1088bfd4c67cff",
            "2c19e843956c4567b6d239155d77b880",
            "b9758dbacfe24f7b905cfa8f92f60873",
            "11ee07119285449c8ea3087adcf6f403",
            "69a0ce7ba9b54d2eb7e1eb9ae50a0939",
            "8838ad38a3404740a04f38e791ad6fce",
            "bd22fca4248846f8ab9d39267ae9af3e",
            "6eead38fca69431d8c2ed4d5e917fc30"
          ]
        },
        "id": "vu69hkrnA3Jx",
        "outputId": "ed8bf25b-7620-494a-fe1e-84355f47816a"
      },
      "outputs": [
        {
          "data": {
            "application/vnd.jupyter.widget-view+json": {
              "model_id": "8fa74a2facfe490fae89860842173142",
              "version_major": 2,
              "version_minor": 0
            },
            "text/plain": [
              "  0%|          | 0/10 [00:00<?, ?it/s]"
            ]
          },
          "metadata": {},
          "output_type": "display_data"
        },
        {
          "name": "stdout",
          "output_type": "stream",
          "text": [
            "Optimal Parameters\n",
            "[[0.81384293 0.36226272]\n",
            " [0.38528069 0.59540443]]\n"
          ]
        },
        {
          "name": "stderr",
          "output_type": "stream",
          "text": [
            "<ipython-input-31-cfc9584ff17c>:37: MatplotlibDeprecationWarning: The seaborn styles shipped by Matplotlib are deprecated since 3.6, as they no longer correspond to the styles shipped by seaborn. However, they will remain available as 'seaborn-v0_8-<style>'. Alternatively, directly use the seaborn API instead.\n",
            "  plt.style.use(\"seaborn\")\n"
          ]
        },
        {
          "data": {
            "image/png": "[encoded data removed]",
            "text/plain": [
              "<Figure size 800x550 with 1 Axes>"
            ]
          },
          "metadata": {},
          "output_type": "display_data"
        }
      ],
      "source": [
        "wires = range(7)\n",
        "depth = 2\n",
        "\n",
        "def circuit(params, **kwargs):\n",
        "    for w in wires:\n",
        "        qml.Hadamard(wires=w)\n",
        "    qml.layer(qaoa_layer, depth, params[0], params[1])\n",
        "\n",
        "dev = qml.device(\"qulacs.simulator\", wires=wires)\n",
        "\n",
        "@qml.qnode(dev)\n",
        "def cost_function(params):\n",
        "    circuit(params)\n",
        "    return qml.expval(new_cost_h)\n",
        "\n",
        "optimizer = qml.GradientDescentOptimizer()\n",
        "steps = 10\n",
        "params = np.array([[0.5, 0.5], [0.5, 0.5]], requires_grad=True)\n",
        "\n",
        "#these initial parameters are known to work and are provided by pennylane in its tutorial such that the optimization does not get stuck at a local minima.\n",
        "\n",
        "for i in tqdm(range(steps)):\n",
        "    params = optimizer.step(cost_function, params)\n",
        "\n",
        "print(\"Optimal Parameters\")\n",
        "print(params)\n",
        "\n",
        "@qml.qnode(dev)\n",
        "def probability_circuit(gamma, alpha):\n",
        "    circuit([gamma, alpha])\n",
        "    return qml.probs(wires=wires)\n",
        "\n",
        "\n",
        "probs = probability_circuit(params[0], params[1])\n",
        "\n",
        "\n",
        "plt.style.use(\"seaborn\")\n",
        "plt.title(\"QAOA vertex cover, X mixer\")\n",
        "plt.bar(range(2 ** len(wires)), probs)\n",
        "plt.show()"
      ]
    },
    {
      "cell_type": "code",
      "execution_count": null,
      "metadata": {
        "id": "pz5AVqqmA6Gc"
      },
      "outputs": [],
      "source": []
    }
  ],
  "metadata": {
    "colab": {
      "provenance": []
    },
    "kernelspec": {
      "display_name": "Python 3",
      "name": "python3"
    },
    "language_info": {
      "name": "python"
    },
    "widgets": {
      "application/vnd.jupyter.widget-state+json": {
        "0b17221339b54118b63ed37bc4820e30": {
          "model_module": "@jupyter-widgets/controls",
          "model_module_version": "1.5.0",
          "model_name": "DescriptionStyleModel",
          "state": {
            "_model_module": "@jupyter-widgets/controls",
            "_model_module_version": "1.5.0",
            "_model_name": "DescriptionStyleModel",
            "_view_count": null,
            "_view_module": "@jupyter-widgets/base",
            "_view_module_version": "1.2.0",
            "_view_name": "StyleView",
            "description_width": ""
          }
        },
        "11ee07119285449c8ea3087adcf6f403": {
          "model_module": "@jupyter-widgets/controls",
          "model_module_version": "1.5.0",
          "model_name": "DescriptionStyleModel",
          "state": {
            "_model_module": "@jupyter-widgets/controls",
            "_model_module_version": "1.5.0",
            "_model_name": "DescriptionStyleModel",
            "_view_count": null,
            "_view_module": "@jupyter-widgets/base",
            "_view_module_version": "1.2.0",
            "_view_name": "StyleView",
            "description_width": ""
          }
        },
        "1750768e989c4f3fb1a786eee6d1caaf": {
          "model_module": "@jupyter-widgets/controls",
          "model_module_version": "1.5.0",
          "model_name": "HBoxModel",
          "state": {
            "_dom_classes": [],
            "_model_module": "@jupyter-widgets/controls",
            "_model_module_version": "1.5.0",
            "_model_name": "HBoxModel",
            "_view_count": null,
            "_view_module": "@jupyter-widgets/controls",
            "_view_module_version": "1.5.0",
            "_view_name": "HBoxView",
            "box_style": "",
            "children": [
              "IPY_MODEL_3ef29743bcf54f8882a431b36f22f2e4",
              "IPY_MODEL_3b6cc4ec5f4c4b0a82b64da44d47e718",
              "IPY_MODEL_351415f3e76f4ec79c6e5d5324103238"
            ],
            "layout": "IPY_MODEL_d9ca9297d36f4bccadf4a7f9599ce5dc"
          }
        },
        "2bf99821fdd14758b84d0eb95be78a87": {
          "model_module": "@jupyter-widgets/base",
          "model_module_version": "1.2.0",
          "model_name": "LayoutModel",
          "state": {
            "_model_module": "@jupyter-widgets/base",
            "_model_module_version": "1.2.0",
            "_model_name": "LayoutModel",
            "_view_count": null,
            "_view_module": "@jupyter-widgets/base",
            "_view_module_version": "1.2.0",
            "_view_name": "LayoutView",
            "align_content": null,
            "align_items": null,
            "align_self": null,
            "border": null,
            "bottom": null,
            "display": null,
            "flex": null,
            "flex_flow": null,
            "grid_area": null,
            "grid_auto_columns": null,
            "grid_auto_flow": null,
            "grid_auto_rows": null,
            "grid_column": null,
            "grid_gap": null,
            "grid_row": null,
            "grid_template_areas": null,
            "grid_template_columns": null,
            "grid_template_rows": null,
            "height": null,
            "justify_content": null,
            "justify_items": null,
            "left": null,
            "margin": null,
            "max_height": null,
            "max_width": null,
            "min_height": null,
            "min_width": null,
            "object_fit": null,
            "object_position": null,
            "order": null,
            "overflow": null,
            "overflow_x": null,
            "overflow_y": null,
            "padding": null,
            "right": null,
            "top": null,
            "visibility": null,
            "width": null
          }
        },
        "2c19e843956c4567b6d239155d77b880": {
          "model_module": "@jupyter-widgets/base",
          "model_module_version": "1.2.0",
          "model_name": "LayoutModel",
          "state": {
            "_model_module": "@jupyter-widgets/base",
            "_model_module_version": "1.2.0",
            "_model_name": "LayoutModel",
            "_view_count": null,
            "_view_module": "@jupyter-widgets/base",
            "_view_module_version": "1.2.0",
            "_view_name": "LayoutView",
            "align_content": null,
            "align_items": null,
            "align_self": null,
            "border": null,
            "bottom": null,
            "display": null,
            "flex": null,
            "flex_flow": null,
            "grid_area": null,
            "grid_auto_columns": null,
            "grid_auto_flow": null,
            "grid_auto_rows": null,
            "grid_column": null,
            "grid_gap": null,
            "grid_row": null,
            "grid_template_areas": null,
            "grid_template_columns": null,
            "grid_template_rows": null,
            "height": null,
            "justify_content": null,
            "justify_items": null,
            "left": null,
            "margin": null,
            "max_height": null,
            "max_width": null,
            "min_height": null,
            "min_width": null,
            "object_fit": null,
            "object_position": null,
            "order": null,
            "overflow": null,
            "overflow_x": null,
            "overflow_y": null,
            "padding": null,
            "right": null,
            "top": null,
            "visibility": null,
            "width": null
          }
        },
        "2f366db60b13459497deb74cc2b17efd": {
          "model_module": "@jupyter-widgets/controls",
          "model_module_version": "1.5.0",
          "model_name": "DescriptionStyleModel",
          "state": {
            "_model_module": "@jupyter-widgets/controls",
            "_model_module_version": "1.5.0",
            "_model_name": "DescriptionStyleModel",
            "_view_count": null,
            "_view_module": "@jupyter-widgets/base",
            "_view_module_version": "1.2.0",
            "_view_name": "StyleView",
            "description_width": ""
          }
        },
        "351415f3e76f4ec79c6e5d5324103238": {
          "model_module": "@jupyter-widgets/controls",
          "model_module_version": "1.5.0",
          "model_name": "HTMLModel",
          "state": {
            "_dom_classes": [],
            "_model_module": "@jupyter-widgets/controls",
            "_model_module_version": "1.5.0",
            "_model_name": "HTMLModel",
            "_view_count": null,
            "_view_module": "@jupyter-widgets/controls",
            "_view_module_version": "1.5.0",
            "_view_name": "HTMLView",
            "description": "",
            "description_tooltip": null,
            "layout": "IPY_MODEL_8f0ec5e7c4b549c4aa8d728689c545b8",
            "placeholder": "​",
            "style": "IPY_MODEL_e10e05702a50480685707ac5405a71d7",
            "value": " 100/100 [01:17&lt;00:00,  1.42it/s]"
          }
        },
        "3b6cc4ec5f4c4b0a82b64da44d47e718": {
          "model_module": "@jupyter-widgets/controls",
          "model_module_version": "1.5.0",
          "model_name": "FloatProgressModel",
          "state": {
            "_dom_classes": [],
            "_model_module": "@jupyter-widgets/controls",
            "_model_module_version": "1.5.0",
            "_model_name": "FloatProgressModel",
            "_view_count": null,
            "_view_module": "@jupyter-widgets/controls",
            "_view_module_version": "1.5.0",
            "_view_name": "ProgressView",
            "bar_style": "success",
            "description": "",
            "description_tooltip": null,
            "layout": "IPY_MODEL_9a901d9476b441f3b1c4c79f66ebb2db",
            "max": 100,
            "min": 0,
            "orientation": "horizontal",
            "style": "IPY_MODEL_6a8ca928363f409088c35ea71dee8494",
            "value": 100
          }
        },
        "3cac6bb769954fc5947858518075346c": {
          "model_module": "@jupyter-widgets/controls",
          "model_module_version": "1.5.0",
          "model_name": "HTMLModel",
          "state": {
            "_dom_classes": [],
            "_model_module": "@jupyter-widgets/controls",
            "_model_module_version": "1.5.0",
            "_model_name": "HTMLModel",
            "_view_count": null,
            "_view_module": "@jupyter-widgets/controls",
            "_view_module_version": "1.5.0",
            "_view_name": "HTMLView",
            "description": "",
            "description_tooltip": null,
            "layout": "IPY_MODEL_c05da8a128f144e68b5791b6d9a7652d",
            "placeholder": "​",
            "style": "IPY_MODEL_d949810ebb464555a0d845f1e898e227",
            "value": " 100/100 [05:02&lt;00:00,  3.19s/it]"
          }
        },
        "3ef29743bcf54f8882a431b36f22f2e4": {
          "model_module": "@jupyter-widgets/controls",
          "model_module_version": "1.5.0",
          "model_name": "HTMLModel",
          "state": {
            "_dom_classes": [],
            "_model_module": "@jupyter-widgets/controls",
            "_model_module_version": "1.5.0",
            "_model_name": "HTMLModel",
            "_view_count": null,
            "_view_module": "@jupyter-widgets/controls",
            "_view_module_version": "1.5.0",
            "_view_name": "HTMLView",
            "description": "",
            "description_tooltip": null,
            "layout": "IPY_MODEL_61fa3d4e34e442e197376ced53a04f04",
            "placeholder": "​",
            "style": "IPY_MODEL_a53b4a308b094304ae50c1018cf2dcb3",
            "value": "100%"
          }
        },
        "4589bda950e2409c95923b059c401719": {
          "model_module": "@jupyter-widgets/controls",
          "model_module_version": "1.5.0",
          "model_name": "HTMLModel",
          "state": {
            "_dom_classes": [],
            "_model_module": "@jupyter-widgets/controls",
            "_model_module_version": "1.5.0",
            "_model_name": "HTMLModel",
            "_view_count": null,
            "_view_module": "@jupyter-widgets/controls",
            "_view_module_version": "1.5.0",
            "_view_name": "HTMLView",
            "description": "",
            "description_tooltip": null,
            "layout": "IPY_MODEL_2bf99821fdd14758b84d0eb95be78a87",
            "placeholder": "​",
            "style": "IPY_MODEL_bfd432b9c3654b738976965326869d94",
            "value": " 100/100 [01:14&lt;00:00,  1.20it/s]"
          }
        },
        "46f58e5cae3d49368862660bc580929f": {
          "model_module": "@jupyter-widgets/base",
          "model_module_version": "1.2.0",
          "model_name": "LayoutModel",
          "state": {
            "_model_module": "@jupyter-widgets/base",
            "_model_module_version": "1.2.0",
            "_model_name": "LayoutModel",
            "_view_count": null,
            "_view_module": "@jupyter-widgets/base",
            "_view_module_version": "1.2.0",
            "_view_name": "LayoutView",
            "align_content": null,
            "align_items": null,
            "align_self": null,
            "border": null,
            "bottom": null,
            "display": null,
            "flex": null,
            "flex_flow": null,
            "grid_area": null,
            "grid_auto_columns": null,
            "grid_auto_flow": null,
            "grid_auto_rows": null,
            "grid_column": null,
            "grid_gap": null,
            "grid_row": null,
            "grid_template_areas": null,
            "grid_template_columns": null,
            "grid_template_rows": null,
            "height": null,
            "justify_content": null,
            "justify_items": null,
            "left": null,
            "margin": null,
            "max_height": null,
            "max_width": null,
            "min_height": null,
            "min_width": null,
            "object_fit": null,
            "object_position": null,
            "order": null,
            "overflow": null,
            "overflow_x": null,
            "overflow_y": null,
            "padding": null,
            "right": null,
            "top": null,
            "visibility": null,
            "width": null
          }
        },
        "49a1da63f12e408da0d6cc0d2aa809dc": {
          "model_module": "@jupyter-widgets/controls",
          "model_module_version": "1.5.0",
          "model_name": "ProgressStyleModel",
          "state": {
            "_model_module": "@jupyter-widgets/controls",
            "_model_module_version": "1.5.0",
            "_model_name": "ProgressStyleModel",
            "_view_count": null,
            "_view_module": "@jupyter-widgets/base",
            "_view_module_version": "1.2.0",
            "_view_name": "StyleView",
            "bar_color": null,
            "description_width": ""
          }
        },
        "4ea0b5f6e9b8418991bf0580d2922614": {
          "model_module": "@jupyter-widgets/controls",
          "model_module_version": "1.5.0",
          "model_name": "ProgressStyleModel",
          "state": {
            "_model_module": "@jupyter-widgets/controls",
            "_model_module_version": "1.5.0",
            "_model_name": "ProgressStyleModel",
            "_view_count": null,
            "_view_module": "@jupyter-widgets/base",
            "_view_module_version": "1.2.0",
            "_view_name": "StyleView",
            "bar_color": null,
            "description_width": ""
          }
        },
        "61110741026b444f86130b436a91e9b7": {
          "model_module": "@jupyter-widgets/controls",
          "model_module_version": "1.5.0",
          "model_name": "HTMLModel",
          "state": {
            "_dom_classes": [],
            "_model_module": "@jupyter-widgets/controls",
            "_model_module_version": "1.5.0",
            "_model_name": "HTMLModel",
            "_view_count": null,
            "_view_module": "@jupyter-widgets/controls",
            "_view_module_version": "1.5.0",
            "_view_name": "HTMLView",
            "description": "",
            "description_tooltip": null,
            "layout": "IPY_MODEL_d420354fccd24f9d8a07237359d62f97",
            "placeholder": "​",
            "style": "IPY_MODEL_2f366db60b13459497deb74cc2b17efd",
            "value": "100%"
          }
        },
        "61fa3d4e34e442e197376ced53a04f04": {
          "model_module": "@jupyter-widgets/base",
          "model_module_version": "1.2.0",
          "model_name": "LayoutModel",
          "state": {
            "_model_module": "@jupyter-widgets/base",
            "_model_module_version": "1.2.0",
            "_model_name": "LayoutModel",
            "_view_count": null,
            "_view_module": "@jupyter-widgets/base",
            "_view_module_version": "1.2.0",
            "_view_name": "LayoutView",
            "align_content": null,
            "align_items": null,
            "align_self": null,
            "border": null,
            "bottom": null,
            "display": null,
            "flex": null,
            "flex_flow": null,
            "grid_area": null,
            "grid_auto_columns": null,
            "grid_auto_flow": null,
            "grid_auto_rows": null,
            "grid_column": null,
            "grid_gap": null,
            "grid_row": null,
            "grid_template_areas": null,
            "grid_template_columns": null,
            "grid_template_rows": null,
            "height": null,
            "justify_content": null,
            "justify_items": null,
            "left": null,
            "margin": null,
            "max_height": null,
            "max_width": null,
            "min_height": null,
            "min_width": null,
            "object_fit": null,
            "object_position": null,
            "order": null,
            "overflow": null,
            "overflow_x": null,
            "overflow_y": null,
            "padding": null,
            "right": null,
            "top": null,
            "visibility": null,
            "width": null
          }
        },
        "69a0ce7ba9b54d2eb7e1eb9ae50a0939": {
          "model_module": "@jupyter-widgets/base",
          "model_module_version": "1.2.0",
          "model_name": "LayoutModel",
          "state": {
            "_model_module": "@jupyter-widgets/base",
            "_model_module_version": "1.2.0",
            "_model_name": "LayoutModel",
            "_view_count": null,
            "_view_module": "@jupyter-widgets/base",
            "_view_module_version": "1.2.0",
            "_view_name": "LayoutView",
            "align_content": null,
            "align_items": null,
            "align_self": null,
            "border": null,
            "bottom": null,
            "display": null,
            "flex": null,
            "flex_flow": null,
            "grid_area": null,
            "grid_auto_columns": null,
            "grid_auto_flow": null,
            "grid_auto_rows": null,
            "grid_column": null,
            "grid_gap": null,
            "grid_row": null,
            "grid_template_areas": null,
            "grid_template_columns": null,
            "grid_template_rows": null,
            "height": null,
            "justify_content": null,
            "justify_items": null,
            "left": null,
            "margin": null,
            "max_height": null,
            "max_width": null,
            "min_height": null,
            "min_width": null,
            "object_fit": null,
            "object_position": null,
            "order": null,
            "overflow": null,
            "overflow_x": null,
            "overflow_y": null,
            "padding": null,
            "right": null,
            "top": null,
            "visibility": null,
            "width": null
          }
        },
        "6a8ca928363f409088c35ea71dee8494": {
          "model_module": "@jupyter-widgets/controls",
          "model_module_version": "1.5.0",
          "model_name": "ProgressStyleModel",
          "state": {
            "_model_module": "@jupyter-widgets/controls",
            "_model_module_version": "1.5.0",
            "_model_name": "ProgressStyleModel",
            "_view_count": null,
            "_view_module": "@jupyter-widgets/base",
            "_view_module_version": "1.2.0",
            "_view_name": "StyleView",
            "bar_color": null,
            "description_width": ""
          }
        },
        "6eead38fca69431d8c2ed4d5e917fc30": {
          "model_module": "@jupyter-widgets/controls",
          "model_module_version": "1.5.0",
          "model_name": "DescriptionStyleModel",
          "state": {
            "_model_module": "@jupyter-widgets/controls",
            "_model_module_version": "1.5.0",
            "_model_name": "DescriptionStyleModel",
            "_view_count": null,
            "_view_module": "@jupyter-widgets/base",
            "_view_module_version": "1.2.0",
            "_view_name": "StyleView",
            "description_width": ""
          }
        },
        "77ca2da10cbd41e394c94c8fbf1886ab": {
          "model_module": "@jupyter-widgets/controls",
          "model_module_version": "1.5.0",
          "model_name": "HTMLModel",
          "state": {
            "_dom_classes": [],
            "_model_module": "@jupyter-widgets/controls",
            "_model_module_version": "1.5.0",
            "_model_name": "HTMLModel",
            "_view_count": null,
            "_view_module": "@jupyter-widgets/controls",
            "_view_module_version": "1.5.0",
            "_view_name": "HTMLView",
            "description": "",
            "description_tooltip": null,
            "layout": "IPY_MODEL_b9758dbacfe24f7b905cfa8f92f60873",
            "placeholder": "​",
            "style": "IPY_MODEL_11ee07119285449c8ea3087adcf6f403",
            "value": "  0%"
          }
        },
        "8838ad38a3404740a04f38e791ad6fce": {
          "model_module": "@jupyter-widgets/controls",
          "model_module_version": "1.5.0",
          "model_name": "ProgressStyleModel",
          "state": {
            "_model_module": "@jupyter-widgets/controls",
            "_model_module_version": "1.5.0",
            "_model_name": "ProgressStyleModel",
            "_view_count": null,
            "_view_module": "@jupyter-widgets/base",
            "_view_module_version": "1.2.0",
            "_view_name": "StyleView",
            "bar_color": null,
            "description_width": ""
          }
        },
        "8a38b8bed30043868269d60724582d75": {
          "model_module": "@jupyter-widgets/base",
          "model_module_version": "1.2.0",
          "model_name": "LayoutModel",
          "state": {
            "_model_module": "@jupyter-widgets/base",
            "_model_module_version": "1.2.0",
            "_model_name": "LayoutModel",
            "_view_count": null,
            "_view_module": "@jupyter-widgets/base",
            "_view_module_version": "1.2.0",
            "_view_name": "LayoutView",
            "align_content": null,
            "align_items": null,
            "align_self": null,
            "border": null,
            "bottom": null,
            "display": null,
            "flex": null,
            "flex_flow": null,
            "grid_area": null,
            "grid_auto_columns": null,
            "grid_auto_flow": null,
            "grid_auto_rows": null,
            "grid_column": null,
            "grid_gap": null,
            "grid_row": null,
            "grid_template_areas": null,
            "grid_template_columns": null,
            "grid_template_rows": null,
            "height": null,
            "justify_content": null,
            "justify_items": null,
            "left": null,
            "margin": null,
            "max_height": null,
            "max_width": null,
            "min_height": null,
            "min_width": null,
            "object_fit": null,
            "object_position": null,
            "order": null,
            "overflow": null,
            "overflow_x": null,
            "overflow_y": null,
            "padding": null,
            "right": null,
            "top": null,
            "visibility": null,
            "width": null
          }
        },
        "8f0ec5e7c4b549c4aa8d728689c545b8": {
          "model_module": "@jupyter-widgets/base",
          "model_module_version": "1.2.0",
          "model_name": "LayoutModel",
          "state": {
            "_model_module": "@jupyter-widgets/base",
            "_model_module_version": "1.2.0",
            "_model_name": "LayoutModel",
            "_view_count": null,
            "_view_module": "@jupyter-widgets/base",
            "_view_module_version": "1.2.0",
            "_view_name": "LayoutView",
            "align_content": null,
            "align_items": null,
            "align_self": null,
            "border": null,
            "bottom": null,
            "display": null,
            "flex": null,
            "flex_flow": null,
            "grid_area": null,
            "grid_auto_columns": null,
            "grid_auto_flow": null,
            "grid_auto_rows": null,
            "grid_column": null,
            "grid_gap": null,
            "grid_row": null,
            "grid_template_areas": null,
            "grid_template_columns": null,
            "grid_template_rows": null,
            "height": null,
            "justify_content": null,
            "justify_items": null,
            "left": null,
            "margin": null,
            "max_height": null,
            "max_width": null,
            "min_height": null,
            "min_width": null,
            "object_fit": null,
            "object_position": null,
            "order": null,
            "overflow": null,
            "overflow_x": null,
            "overflow_y": null,
            "padding": null,
            "right": null,
            "top": null,
            "visibility": null,
            "width": null
          }
        },
        "8fa74a2facfe490fae89860842173142": {
          "model_module": "@jupyter-widgets/controls",
          "model_module_version": "1.5.0",
          "model_name": "HBoxModel",
          "state": {
            "_dom_classes": [],
            "_model_module": "@jupyter-widgets/controls",
            "_model_module_version": "1.5.0",
            "_model_name": "HBoxModel",
            "_view_count": null,
            "_view_module": "@jupyter-widgets/controls",
            "_view_module_version": "1.5.0",
            "_view_name": "HBoxView",
            "box_style": "",
            "children": [
              "IPY_MODEL_77ca2da10cbd41e394c94c8fbf1886ab",
              "IPY_MODEL_d16d1aaeb11a443dbb7a9f47919e9841",
              "IPY_MODEL_fc4a9cf644224859bb1088bfd4c67cff"
            ],
            "layout": "IPY_MODEL_2c19e843956c4567b6d239155d77b880"
          }
        },
        "9a901d9476b441f3b1c4c79f66ebb2db": {
          "model_module": "@jupyter-widgets/base",
          "model_module_version": "1.2.0",
          "model_name": "LayoutModel",
          "state": {
            "_model_module": "@jupyter-widgets/base",
            "_model_module_version": "1.2.0",
            "_model_name": "LayoutModel",
            "_view_count": null,
            "_view_module": "@jupyter-widgets/base",
            "_view_module_version": "1.2.0",
            "_view_name": "LayoutView",
            "align_content": null,
            "align_items": null,
            "align_self": null,
            "border": null,
            "bottom": null,
            "display": null,
            "flex": null,
            "flex_flow": null,
            "grid_area": null,
            "grid_auto_columns": null,
            "grid_auto_flow": null,
            "grid_auto_rows": null,
            "grid_column": null,
            "grid_gap": null,
            "grid_row": null,
            "grid_template_areas": null,
            "grid_template_columns": null,
            "grid_template_rows": null,
            "height": null,
            "justify_content": null,
            "justify_items": null,
            "left": null,
            "margin": null,
            "max_height": null,
            "max_width": null,
            "min_height": null,
            "min_width": null,
            "object_fit": null,
            "object_position": null,
            "order": null,
            "overflow": null,
            "overflow_x": null,
            "overflow_y": null,
            "padding": null,
            "right": null,
            "top": null,
            "visibility": null,
            "width": null
          }
        },
        "a0aef735065c4cc5a46dc129a4f2353a": {
          "model_module": "@jupyter-widgets/controls",
          "model_module_version": "1.5.0",
          "model_name": "FloatProgressModel",
          "state": {
            "_dom_classes": [],
            "_model_module": "@jupyter-widgets/controls",
            "_model_module_version": "1.5.0",
            "_model_name": "FloatProgressModel",
            "_view_count": null,
            "_view_module": "@jupyter-widgets/controls",
            "_view_module_version": "1.5.0",
            "_view_name": "ProgressView",
            "bar_style": "success",
            "description": "",
            "description_tooltip": null,
            "layout": "IPY_MODEL_aa310f72fb9a41a380d77f113e8f84b7",
            "max": 100,
            "min": 0,
            "orientation": "horizontal",
            "style": "IPY_MODEL_49a1da63f12e408da0d6cc0d2aa809dc",
            "value": 100
          }
        },
        "a53b4a308b094304ae50c1018cf2dcb3": {
          "model_module": "@jupyter-widgets/controls",
          "model_module_version": "1.5.0",
          "model_name": "DescriptionStyleModel",
          "state": {
            "_model_module": "@jupyter-widgets/controls",
            "_model_module_version": "1.5.0",
            "_model_name": "DescriptionStyleModel",
            "_view_count": null,
            "_view_module": "@jupyter-widgets/base",
            "_view_module_version": "1.2.0",
            "_view_name": "StyleView",
            "description_width": ""
          }
        },
        "aa310f72fb9a41a380d77f113e8f84b7": {
          "model_module": "@jupyter-widgets/base",
          "model_module_version": "1.2.0",
          "model_name": "LayoutModel",
          "state": {
            "_model_module": "@jupyter-widgets/base",
            "_model_module_version": "1.2.0",
            "_model_name": "LayoutModel",
            "_view_count": null,
            "_view_module": "@jupyter-widgets/base",
            "_view_module_version": "1.2.0",
            "_view_name": "LayoutView",
            "align_content": null,
            "align_items": null,
            "align_self": null,
            "border": null,
            "bottom": null,
            "display": null,
            "flex": null,
            "flex_flow": null,
            "grid_area": null,
            "grid_auto_columns": null,
            "grid_auto_flow": null,
            "grid_auto_rows": null,
            "grid_column": null,
            "grid_gap": null,
            "grid_row": null,
            "grid_template_areas": null,
            "grid_template_columns": null,
            "grid_template_rows": null,
            "height": null,
            "justify_content": null,
            "justify_items": null,
            "left": null,
            "margin": null,
            "max_height": null,
            "max_width": null,
            "min_height": null,
            "min_width": null,
            "object_fit": null,
            "object_position": null,
            "order": null,
            "overflow": null,
            "overflow_x": null,
            "overflow_y": null,
            "padding": null,
            "right": null,
            "top": null,
            "visibility": null,
            "width": null
          }
        },
        "ae38152a682c418a8f4003415dac5193": {
          "model_module": "@jupyter-widgets/base",
          "model_module_version": "1.2.0",
          "model_name": "LayoutModel",
          "state": {
            "_model_module": "@jupyter-widgets/base",
            "_model_module_version": "1.2.0",
            "_model_name": "LayoutModel",
            "_view_count": null,
            "_view_module": "@jupyter-widgets/base",
            "_view_module_version": "1.2.0",
            "_view_name": "LayoutView",
            "align_content": null,
            "align_items": null,
            "align_self": null,
            "border": null,
            "bottom": null,
            "display": null,
            "flex": null,
            "flex_flow": null,
            "grid_area": null,
            "grid_auto_columns": null,
            "grid_auto_flow": null,
            "grid_auto_rows": null,
            "grid_column": null,
            "grid_gap": null,
            "grid_row": null,
            "grid_template_areas": null,
            "grid_template_columns": null,
            "grid_template_rows": null,
            "height": null,
            "justify_content": null,
            "justify_items": null,
            "left": null,
            "margin": null,
            "max_height": null,
            "max_width": null,
            "min_height": null,
            "min_width": null,
            "object_fit": null,
            "object_position": null,
            "order": null,
            "overflow": null,
            "overflow_x": null,
            "overflow_y": null,
            "padding": null,
            "right": null,
            "top": null,
            "visibility": null,
            "width": null
          }
        },
        "b11847ce58d24b1da52301d53829eba6": {
          "model_module": "@jupyter-widgets/controls",
          "model_module_version": "1.5.0",
          "model_name": "HBoxModel",
          "state": {
            "_dom_classes": [],
            "_model_module": "@jupyter-widgets/controls",
            "_model_module_version": "1.5.0",
            "_model_name": "HBoxModel",
            "_view_count": null,
            "_view_module": "@jupyter-widgets/controls",
            "_view_module_version": "1.5.0",
            "_view_name": "HBoxView",
            "box_style": "",
            "children": [
              "IPY_MODEL_61110741026b444f86130b436a91e9b7",
              "IPY_MODEL_a0aef735065c4cc5a46dc129a4f2353a",
              "IPY_MODEL_3cac6bb769954fc5947858518075346c"
            ],
            "layout": "IPY_MODEL_cf399fe5699344af85d3abf77048dfd9"
          }
        },
        "b43d61c12daa46bf91972d22440a6b47": {
          "model_module": "@jupyter-widgets/controls",
          "model_module_version": "1.5.0",
          "model_name": "HTMLModel",
          "state": {
            "_dom_classes": [],
            "_model_module": "@jupyter-widgets/controls",
            "_model_module_version": "1.5.0",
            "_model_name": "HTMLModel",
            "_view_count": null,
            "_view_module": "@jupyter-widgets/controls",
            "_view_module_version": "1.5.0",
            "_view_name": "HTMLView",
            "description": "",
            "description_tooltip": null,
            "layout": "IPY_MODEL_46f58e5cae3d49368862660bc580929f",
            "placeholder": "​",
            "style": "IPY_MODEL_0b17221339b54118b63ed37bc4820e30",
            "value": "100%"
          }
        },
        "b9758dbacfe24f7b905cfa8f92f60873": {
          "model_module": "@jupyter-widgets/base",
          "model_module_version": "1.2.0",
          "model_name": "LayoutModel",
          "state": {
            "_model_module": "@jupyter-widgets/base",
            "_model_module_version": "1.2.0",
            "_model_name": "LayoutModel",
            "_view_count": null,
            "_view_module": "@jupyter-widgets/base",
            "_view_module_version": "1.2.0",
            "_view_name": "LayoutView",
            "align_content": null,
            "align_items": null,
            "align_self": null,
            "border": null,
            "bottom": null,
            "display": null,
            "flex": null,
            "flex_flow": null,
            "grid_area": null,
            "grid_auto_columns": null,
            "grid_auto_flow": null,
            "grid_auto_rows": null,
            "grid_column": null,
            "grid_gap": null,
            "grid_row": null,
            "grid_template_areas": null,
            "grid_template_columns": null,
            "grid_template_rows": null,
            "height": null,
            "justify_content": null,
            "justify_items": null,
            "left": null,
            "margin": null,
            "max_height": null,
            "max_width": null,
            "min_height": null,
            "min_width": null,
            "object_fit": null,
            "object_position": null,
            "order": null,
            "overflow": null,
            "overflow_x": null,
            "overflow_y": null,
            "padding": null,
            "right": null,
            "top": null,
            "visibility": null,
            "width": null
          }
        },
        "bd22fca4248846f8ab9d39267ae9af3e": {
          "model_module": "@jupyter-widgets/base",
          "model_module_version": "1.2.0",
          "model_name": "LayoutModel",
          "state": {
            "_model_module": "@jupyter-widgets/base",
            "_model_module_version": "1.2.0",
            "_model_name": "LayoutModel",
            "_view_count": null,
            "_view_module": "@jupyter-widgets/base",
            "_view_module_version": "1.2.0",
            "_view_name": "LayoutView",
            "align_content": null,
            "align_items": null,
            "align_self": null,
            "border": null,
            "bottom": null,
            "display": null,
            "flex": null,
            "flex_flow": null,
            "grid_area": null,
            "grid_auto_columns": null,
            "grid_auto_flow": null,
            "grid_auto_rows": null,
            "grid_column": null,
            "grid_gap": null,
            "grid_row": null,
            "grid_template_areas": null,
            "grid_template_columns": null,
            "grid_template_rows": null,
            "height": null,
            "justify_content": null,
            "justify_items": null,
            "left": null,
            "margin": null,
            "max_height": null,
            "max_width": null,
            "min_height": null,
            "min_width": null,
            "object_fit": null,
            "object_position": null,
            "order": null,
            "overflow": null,
            "overflow_x": null,
            "overflow_y": null,
            "padding": null,
            "right": null,
            "top": null,
            "visibility": null,
            "width": null
          }
        },
        "bfd432b9c3654b738976965326869d94": {
          "model_module": "@jupyter-widgets/controls",
          "model_module_version": "1.5.0",
          "model_name": "DescriptionStyleModel",
          "state": {
            "_model_module": "@jupyter-widgets/controls",
            "_model_module_version": "1.5.0",
            "_model_name": "DescriptionStyleModel",
            "_view_count": null,
            "_view_module": "@jupyter-widgets/base",
            "_view_module_version": "1.2.0",
            "_view_name": "StyleView",
            "description_width": ""
          }
        },
        "c05da8a128f144e68b5791b6d9a7652d": {
          "model_module": "@jupyter-widgets/base",
          "model_module_version": "1.2.0",
          "model_name": "LayoutModel",
          "state": {
            "_model_module": "@jupyter-widgets/base",
            "_model_module_version": "1.2.0",
            "_model_name": "LayoutModel",
            "_view_count": null,
            "_view_module": "@jupyter-widgets/base",
            "_view_module_version": "1.2.0",
            "_view_name": "LayoutView",
            "align_content": null,
            "align_items": null,
            "align_self": null,
            "border": null,
            "bottom": null,
            "display": null,
            "flex": null,
            "flex_flow": null,
            "grid_area": null,
            "grid_auto_columns": null,
            "grid_auto_flow": null,
            "grid_auto_rows": null,
            "grid_column": null,
            "grid_gap": null,
            "grid_row": null,
            "grid_template_areas": null,
            "grid_template_columns": null,
            "grid_template_rows": null,
            "height": null,
            "justify_content": null,
            "justify_items": null,
            "left": null,
            "margin": null,
            "max_height": null,
            "max_width": null,
            "min_height": null,
            "min_width": null,
            "object_fit": null,
            "object_position": null,
            "order": null,
            "overflow": null,
            "overflow_x": null,
            "overflow_y": null,
            "padding": null,
            "right": null,
            "top": null,
            "visibility": null,
            "width": null
          }
        },
        "c7dc5a9dc18b476e90e9f3354334c0ed": {
          "model_module": "@jupyter-widgets/controls",
          "model_module_version": "1.5.0",
          "model_name": "HBoxModel",
          "state": {
            "_dom_classes": [],
            "_model_module": "@jupyter-widgets/controls",
            "_model_module_version": "1.5.0",
            "_model_name": "HBoxModel",
            "_view_count": null,
            "_view_module": "@jupyter-widgets/controls",
            "_view_module_version": "1.5.0",
            "_view_name": "HBoxView",
            "box_style": "",
            "children": [
              "IPY_MODEL_b43d61c12daa46bf91972d22440a6b47",
              "IPY_MODEL_f702a5b28abf4171a80b732bdc6cb3dc",
              "IPY_MODEL_4589bda950e2409c95923b059c401719"
            ],
            "layout": "IPY_MODEL_8a38b8bed30043868269d60724582d75"
          }
        },
        "cf399fe5699344af85d3abf77048dfd9": {
          "model_module": "@jupyter-widgets/base",
          "model_module_version": "1.2.0",
          "model_name": "LayoutModel",
          "state": {
            "_model_module": "@jupyter-widgets/base",
            "_model_module_version": "1.2.0",
            "_model_name": "LayoutModel",
            "_view_count": null,
            "_view_module": "@jupyter-widgets/base",
            "_view_module_version": "1.2.0",
            "_view_name": "LayoutView",
            "align_content": null,
            "align_items": null,
            "align_self": null,
            "border": null,
            "bottom": null,
            "display": null,
            "flex": null,
            "flex_flow": null,
            "grid_area": null,
            "grid_auto_columns": null,
            "grid_auto_flow": null,
            "grid_auto_rows": null,
            "grid_column": null,
            "grid_gap": null,
            "grid_row": null,
            "grid_template_areas": null,
            "grid_template_columns": null,
            "grid_template_rows": null,
            "height": null,
            "justify_content": null,
            "justify_items": null,
            "left": null,
            "margin": null,
            "max_height": null,
            "max_width": null,
            "min_height": null,
            "min_width": null,
            "object_fit": null,
            "object_position": null,
            "order": null,
            "overflow": null,
            "overflow_x": null,
            "overflow_y": null,
            "padding": null,
            "right": null,
            "top": null,
            "visibility": null,
            "width": null
          }
        },
        "d16d1aaeb11a443dbb7a9f47919e9841": {
          "model_module": "@jupyter-widgets/controls",
          "model_module_version": "1.5.0",
          "model_name": "FloatProgressModel",
          "state": {
            "_dom_classes": [],
            "_model_module": "@jupyter-widgets/controls",
            "_model_module_version": "1.5.0",
            "_model_name": "FloatProgressModel",
            "_view_count": null,
            "_view_module": "@jupyter-widgets/controls",
            "_view_module_version": "1.5.0",
            "_view_name": "ProgressView",
            "bar_style": "",
            "description": "",
            "description_tooltip": null,
            "layout": "IPY_MODEL_69a0ce7ba9b54d2eb7e1eb9ae50a0939",
            "max": 10,
            "min": 0,
            "orientation": "horizontal",
            "style": "IPY_MODEL_8838ad38a3404740a04f38e791ad6fce",
            "value": 0
          }
        },
        "d420354fccd24f9d8a07237359d62f97": {
          "model_module": "@jupyter-widgets/base",
          "model_module_version": "1.2.0",
          "model_name": "LayoutModel",
          "state": {
            "_model_module": "@jupyter-widgets/base",
            "_model_module_version": "1.2.0",
            "_model_name": "LayoutModel",
            "_view_count": null,
            "_view_module": "@jupyter-widgets/base",
            "_view_module_version": "1.2.0",
            "_view_name": "LayoutView",
            "align_content": null,
            "align_items": null,
            "align_self": null,
            "border": null,
            "bottom": null,
            "display": null,
            "flex": null,
            "flex_flow": null,
            "grid_area": null,
            "grid_auto_columns": null,
            "grid_auto_flow": null,
            "grid_auto_rows": null,
            "grid_column": null,
            "grid_gap": null,
            "grid_row": null,
            "grid_template_areas": null,
            "grid_template_columns": null,
            "grid_template_rows": null,
            "height": null,
            "justify_content": null,
            "justify_items": null,
            "left": null,
            "margin": null,
            "max_height": null,
            "max_width": null,
            "min_height": null,
            "min_width": null,
            "object_fit": null,
            "object_position": null,
            "order": null,
            "overflow": null,
            "overflow_x": null,
            "overflow_y": null,
            "padding": null,
            "right": null,
            "top": null,
            "visibility": null,
            "width": null
          }
        },
        "d949810ebb464555a0d845f1e898e227": {
          "model_module": "@jupyter-widgets/controls",
          "model_module_version": "1.5.0",
          "model_name": "DescriptionStyleModel",
          "state": {
            "_model_module": "@jupyter-widgets/controls",
            "_model_module_version": "1.5.0",
            "_model_name": "DescriptionStyleModel",
            "_view_count": null,
            "_view_module": "@jupyter-widgets/base",
            "_view_module_version": "1.2.0",
            "_view_name": "StyleView",
            "description_width": ""
          }
        },
        "d9ca9297d36f4bccadf4a7f9599ce5dc": {
          "model_module": "@jupyter-widgets/base",
          "model_module_version": "1.2.0",
          "model_name": "LayoutModel",
          "state": {
            "_model_module": "@jupyter-widgets/base",
            "_model_module_version": "1.2.0",
            "_model_name": "LayoutModel",
            "_view_count": null,
            "_view_module": "@jupyter-widgets/base",
            "_view_module_version": "1.2.0",
            "_view_name": "LayoutView",
            "align_content": null,
            "align_items": null,
            "align_self": null,
            "border": null,
            "bottom": null,
            "display": null,
            "flex": null,
            "flex_flow": null,
            "grid_area": null,
            "grid_auto_columns": null,
            "grid_auto_flow": null,
            "grid_auto_rows": null,
            "grid_column": null,
            "grid_gap": null,
            "grid_row": null,
            "grid_template_areas": null,
            "grid_template_columns": null,
            "grid_template_rows": null,
            "height": null,
            "justify_content": null,
            "justify_items": null,
            "left": null,
            "margin": null,
            "max_height": null,
            "max_width": null,
            "min_height": null,
            "min_width": null,
            "object_fit": null,
            "object_position": null,
            "order": null,
            "overflow": null,
            "overflow_x": null,
            "overflow_y": null,
            "padding": null,
            "right": null,
            "top": null,
            "visibility": null,
            "width": null
          }
        },
        "e10e05702a50480685707ac5405a71d7": {
          "model_module": "@jupyter-widgets/controls",
          "model_module_version": "1.5.0",
          "model_name": "DescriptionStyleModel",
          "state": {
            "_model_module": "@jupyter-widgets/controls",
            "_model_module_version": "1.5.0",
            "_model_name": "DescriptionStyleModel",
            "_view_count": null,
            "_view_module": "@jupyter-widgets/base",
            "_view_module_version": "1.2.0",
            "_view_name": "StyleView",
            "description_width": ""
          }
        },
        "f702a5b28abf4171a80b732bdc6cb3dc": {
          "model_module": "@jupyter-widgets/controls",
          "model_module_version": "1.5.0",
          "model_name": "FloatProgressModel",
          "state": {
            "_dom_classes": [],
            "_model_module": "@jupyter-widgets/controls",
            "_model_module_version": "1.5.0",
            "_model_name": "FloatProgressModel",
            "_view_count": null,
            "_view_module": "@jupyter-widgets/controls",
            "_view_module_version": "1.5.0",
            "_view_name": "ProgressView",
            "bar_style": "success",
            "description": "",
            "description_tooltip": null,
            "layout": "IPY_MODEL_ae38152a682c418a8f4003415dac5193",
            "max": 100,
            "min": 0,
            "orientation": "horizontal",
            "style": "IPY_MODEL_4ea0b5f6e9b8418991bf0580d2922614",
            "value": 100
          }
        },
        "fc4a9cf644224859bb1088bfd4c67cff": {
          "model_module": "@jupyter-widgets/controls",
          "model_module_version": "1.5.0",
          "model_name": "HTMLModel",
          "state": {
            "_dom_classes": [],
            "_model_module": "@jupyter-widgets/controls",
            "_model_module_version": "1.5.0",
            "_model_name": "HTMLModel",
            "_view_count": null,
            "_view_module": "@jupyter-widgets/controls",
            "_view_module_version": "1.5.0",
            "_view_name": "HTMLView",
            "description": "",
            "description_tooltip": null,
            "layout": "IPY_MODEL_bd22fca4248846f8ab9d39267ae9af3e",
            "placeholder": "​",
            "style": "IPY_MODEL_6eead38fca69431d8c2ed4d5e917fc30",
            "value": " 0/10 [00:00&lt;?, ?it/s]"
          }
        }
      }
    }
  },
  "nbformat": 4,
  "nbformat_minor": 0
}